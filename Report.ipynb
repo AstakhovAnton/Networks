{
 "cells": [
  {
   "cell_type": "markdown",
   "metadata": {},
   "source": [
    "#  Суперпозиции\n",
    "\n",
    "\n",
    "\n",
    "<img src='https://images.theconversation.com/files/168081/original/file-20170505-21003-zbguhy.jpg?ixlib=rb-1.1.0&q=45&auto=format&w=926&fit=clip' width=600>"
   ]
  },
  {
   "cell_type": "markdown",
   "metadata": {},
   "source": [
    "### Задача\n",
    "классификация временных рядов\n",
    "<br><br><br>"
   ]
  },
  {
   "cell_type": "markdown",
   "metadata": {},
   "source": [
    "### Данные\n",
    "одномерные короткие временные ряды\n",
    "<br>${D} = \\{t_i,y_i\\}_{i=1}^N$$, где$ $t_i \\in {R}^z$ - независимая переменная, а $y_i$ - зависимая \n",
    "переменная, где $z = 1$ для одномерных.\n",
    "<br> \n",
    "<img src='https://s3-ap-south-1.amazonaws.com/av-blog-media/wp-content/uploads/2018/05/growth-3078544_960_720-850x468.png' width=500>\n",
    "* размер грудной клетки спящего пациента\n",
    "* сердечный ритм \n",
    "* концентрация кислорода\n",
    "* цены на акции компании\n",
    "* курс золота\n",
    "* количество солнечных пятен\n",
    "* ...\n",
    "\n",
    "<img src='names.png' width=800>\n",
    "\n",
    "<br><br>множество примитивов для $z = 1$\n",
    "<br>${G}=\\{g_1, \\dots, g_m, x\\}$, \n",
    "где $g_i$ - математические функции, а $x$ - переменная(терминал)."
   ]
  },
  {
   "cell_type": "markdown",
   "metadata": {},
   "source": [
    "<img src='table.png' width=600>"
   ]
  },
  {
   "cell_type": "markdown",
   "metadata": {},
   "source": [
    "типы примитивов\n",
    "* Описательные\n",
    "* Вспомогательные\n",
    "* Связующие\n",
    "\n",
    "<br>$\\mathfrak{F}$ - множество всех суперпозиций\n",
    "\n",
    "$T$ - cинтаксическое дерево cуперпозиции $f \\in \\mathfrak{F}$\n",
    "<br><br><br>"
   ]
  },
  {
   "cell_type": "markdown",
   "metadata": {},
   "source": [
    "<img src='tree.png' width=200>"
   ]
  },
  {
   "cell_type": "markdown",
   "metadata": {},
   "source": [
    "### Решение\n",
    "\n",
    "аппроксимируем выборку $D$ с помощью символьной регрессии, которая порождается генетическим алгоритмом\n",
    "$$f^* = \\text{argmin}_{f \\in \\mathfrak{F}} \\: \\text{MSE}(f) = \\text{argmin}_{f \\in \\mathfrak{F}} \\: \\sum_{i=1}^N(f(t_i)-y_i)^2.$$\n",
    "\n",
    "<br> $\\mathcal{C}({D})$ - классификатор временного ряда\n",
    "* логистическая регрессия\n",
    "* AdaBoost\n",
    "* метод опорных векторов\n",
    "* нейронные сети\n",
    "* метод $k$ ближайших соседей\n",
    "* ...\n",
    "<br><br><br>"
   ]
  },
  {
   "cell_type": "markdown",
   "metadata": {},
   "source": [
    "<br> $F(T)$ - признаки синтаксического дерева $T$\n",
    "\n",
    "### $$D \\longrightarrow f \\longrightarrow T \\longrightarrow \\:F \\: \\longrightarrow C(F)$$\n",
    "\n",
    "<br>Имеется набор $M$ временных рядов $\\{{D}_j, z_j\\}_{j=1}^M$, где ${D}_j = \\{t_i^j,y_i^j\\}_{i=1}^{N_j}$, а $z_j$ - метка класса временного ряда\n",
    "$$\\mathcal{C}^*({D}) = \\text{argmin}_{\\mathcal{C}} \\: ({\\sum_{j=1}^M [\\mathcal{C}({D}) \\ne z_j]})$$\n",
    "\n",
    "$$F^*(f) = \\text{argmin}_{F(f)} \\: ({\\sum_{j=1}^M [\\mathcal{C^*}({D}) \\ne z_j]})$$\n",
    "\n",
    "<br> Извлечение структурных признаков из $T$\n",
    "* удаление связующих вершин\n",
    "* удаление вспомогательных вершин"
   ]
  },
  {
   "cell_type": "markdown",
   "metadata": {},
   "source": [
    "<img src='feature.png' width=900>"
   ]
  },
  {
   "cell_type": "markdown",
   "metadata": {},
   "source": [
    "$U = \\cup_{j=1}^M F({D}_j)$ - множество всех признаков временных рядов\n",
    "\n",
    "<br> наши признаки\n",
    "* частота встречаемости признака $U_i$ среди $F({D})_j$\n",
    "* структурная сложность суперпозиций\n",
    "* высота их синтаксических деревьев\n",
    "* точность аппроксимации\n",
    "* гистограмма частот примитивов в функции\n",
    "* ..."
   ]
  },
  {
   "cell_type": "markdown",
   "metadata": {},
   "source": [
    "<img src='AdaBoost.png' width=800>\n",
    "<img src='logreg.png' width=800>"
   ]
  }
 ],
 "metadata": {
  "kernelspec": {
   "display_name": "Python 3",
   "language": "python",
   "name": "python3"
  },
  "language_info": {
   "codemirror_mode": {
    "name": "ipython",
    "version": 3
   },
   "file_extension": ".py",
   "mimetype": "text/x-python",
   "name": "python",
   "nbconvert_exporter": "python",
   "pygments_lexer": "ipython3",
   "version": "3.7.0"
  }
 },
 "nbformat": 4,
 "nbformat_minor": 2
}
